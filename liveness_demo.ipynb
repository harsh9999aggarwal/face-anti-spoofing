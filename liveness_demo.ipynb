{
 "cells": [
  {
   "cell_type": "code",
   "execution_count": 1,
   "metadata": {},
   "outputs": [],
   "source": [
    "# import the necessary packages\n",
    "from imutils.video import VideoStream\n",
    "from keras.preprocessing.image import img_to_array\n",
    "from keras.models import load_model\n",
    "import numpy as np\n",
    "import argparse\n",
    "import imutils\n",
    "import pickle\n",
    "import time\n",
    "import cv2\n",
    "import os\n"
   ]
  },
  {
   "cell_type": "code",
   "execution_count": 2,
   "metadata": {},
   "outputs": [
    {
     "name": "stdout",
     "output_type": "stream",
     "text": [
      "[INFO] loading face detector...\n",
      "[INFO] loading liveness detector...\n"
     ]
    }
   ],
   "source": [
    "# load our serialized face detector from disk\n",
    "print(\"[INFO] loading face detector...\")\n",
    "\n",
    "protoPath =  os.path.join('/home/harsh/my_liveness_detector/face_detector','deploy.prototxt')\n",
    "modelPath = os.path.join('/home/harsh/my_liveness_detector/face_detector','res10_300x300_ssd_iter_140000.caffemodel')\n",
    "\n",
    "net = cv2.dnn.readNetFromCaffe(protoPath, modelPath)\n",
    "\n",
    "# load the liveness detector model and label encoder from disk\n",
    "print(\"[INFO] loading liveness detector...\")\n",
    "model = load_model('/home/harsh/my_liveness_detector/liveness_model')\n",
    "\n",
    "\n"
   ]
  },
  {
   "cell_type": "code",
   "execution_count": 3,
   "metadata": {},
   "outputs": [],
   "source": [
    "le = pickle.loads(open('/home/harsh/my_liveness_detector/le.pickle', \"rb\").read())"
   ]
  },
  {
   "cell_type": "code",
   "execution_count": 4,
   "metadata": {},
   "outputs": [
    {
     "name": "stdout",
     "output_type": "stream",
     "text": [
      "[INFO] starting video stream...\n"
     ]
    }
   ],
   "source": [
    "# initialize the video stream and allow the camera sensor to warmup\n",
    "print(\"[INFO] starting video stream...\")\n",
    "vs = VideoStream(src=0, resolution=(600, 1280)).start()\n",
    "time.sleep(2.0)\n",
    "\n",
    "# loop over the frames from the video stream\n",
    "while True:\n",
    "    # grab the frame from the threaded video stream and resize it\n",
    "    # to have a maximum width of 600 pixels\n",
    "    frame = vs.read()\n",
    "    frame = imutils.resize(frame, width=600)\n",
    "\n",
    "    # grab the frame dimensions and convert it to a blob\n",
    "    (h, w) = frame.shape[:2]\n",
    "    blob = cv2.dnn.blobFromImage(\n",
    "        cv2.resize(frame, (300, 300)), 1.0, (300, 300), (104.0, 177.0, 123.0)\n",
    "    )\n",
    "\n",
    "    # pass the blob through the network and obtain the detections and\n",
    "    # predictions\n",
    "    net.setInput(blob)\n",
    "    detections = net.forward()\n",
    "\n",
    "    # loop over the detections\n",
    "    for i in range(0, detections.shape[2]):\n",
    "        # extract the confidence (i.e., probability) associated with the\n",
    "        # prediction\n",
    "        confidence = detections[0, 0, i, 2]\n",
    "\n",
    "        # filter out weak detections\n",
    "        if confidence > 0.5:\n",
    "            # compute the (x, y)-coordinates of the bounding box for\n",
    "            # the face and extract the face ROI\n",
    "            box = detections[0, 0, i, 3:7] * np.array([w, h, w, h])\n",
    "            (startX, startY, endX, endY) = box.astype(\"int\")\n",
    "\n",
    "            # ensure the detected bounding box does fall outside the\n",
    "            # dimensions of the frame\n",
    "            startX = max(0, startX)\n",
    "            startY = max(0, startY)\n",
    "            endX = min(w, endX)\n",
    "            endY = min(h, endY)\n",
    "\n",
    "            try:\n",
    "                # extract the face ROI and then preproces it in the exact\n",
    "                # same manner as our training data\n",
    "                face = frame[startY:endY, startX:endX]\n",
    "                face = cv2.resize(face, (32, 32))\n",
    "                face = face.astype(\"float\") / 255.0\n",
    "                face = img_to_array(face)\n",
    "                face = np.expand_dims(face, axis=0)\n",
    "\n",
    "                # pass the face ROI through the trained liveness detector\n",
    "                # model to determine if the face is \"real\" or \"fake\"\n",
    "                preds = model.predict(face)[0]\n",
    "                j = np.argmax(preds)\n",
    "                label = le.classes_[j]\n",
    "\n",
    "                # draw the label and bounding box on the frame\n",
    "                label = \"{}: {:.4f}\".format(label, preds[j])\n",
    "                cv2.putText(\n",
    "                    frame,\n",
    "                    label,\n",
    "                    (startX, startY - 10),\n",
    "                    cv2.FONT_HERSHEY_SIMPLEX,\n",
    "                    0.5,\n",
    "                    (0, 0, 255),\n",
    "                    2,\n",
    "                )\n",
    "                cv2.rectangle(frame, (startX, startY),\n",
    "                              (endX, endY), (0, 0, 255), 2)\n",
    "            except Exception as error:\n",
    "                print(\"Frame error\")\n",
    "\n",
    "    # show the output frame and wait for a key press\n",
    "    cv2.imshow(\"Frame\", frame)\n",
    "    key = cv2.waitKey(1) & 0xFF\n",
    "\n",
    "    # if the `q` key was pressed, break from the loop\n",
    "    if key == ord(\"q\"):\n",
    "        break\n",
    "\n",
    "\n"
   ]
  },
  {
   "cell_type": "code",
   "execution_count": null,
   "metadata": {},
   "outputs": [],
   "source": [
    "# do a bit of cleanup\n",
    "cv2.destroyAllWindows()\n",
    "vs.stop()"
   ]
  },
  {
   "cell_type": "code",
   "execution_count": null,
   "metadata": {},
   "outputs": [],
   "source": []
  },
  {
   "cell_type": "code",
   "execution_count": null,
   "metadata": {},
   "outputs": [],
   "source": []
  }
 ],
 "metadata": {
  "kernelspec": {
   "display_name": "Python 3",
   "language": "python",
   "name": "python3"
  },
  "language_info": {
   "codemirror_mode": {
    "name": "ipython",
    "version": 3
   },
   "file_extension": ".py",
   "mimetype": "text/x-python",
   "name": "python",
   "nbconvert_exporter": "python",
   "pygments_lexer": "ipython3",
   "version": "3.7.7"
  }
 },
 "nbformat": 4,
 "nbformat_minor": 4
}
