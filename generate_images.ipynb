{
 "cells": [
  {
   "cell_type": "code",
   "execution_count": null,
   "metadata": {},
   "outputs": [],
   "source": [
    "# import the necessary packages\n",
    "import numpy as np\n",
    "import argparse\n",
    "import cv2\n",
    "import os\n",
    "from pathlib import Path\n",
    "\n",
    "\n",
    "print(\"[INFO] loading face detector...\")\n",
    "protoPath =  os.path.join('/home/harsh/my_liveness_detector/face_detector','deploy.prototxt')\n",
    "modelPath = os.path.join('/home/harsh/my_liveness_detector/face_detector','res10_300x300_ssd_iter_140000.caffemodel')\n",
    "net = cv2.dnn.readNetFromCaffe(protoPath, modelPath)\n",
    "print(\"111\")\n",
    "\n"
   ]
  },
  {
   "cell_type": "code",
   "execution_count": null,
   "metadata": {},
   "outputs": [],
   "source": [
    "# open a pointer to the video file stream and initialize the total\n",
    "# number of frames read and saved thus far\n",
    "vs = cv2.VideoCapture('/home/harsh/my_liveness_detector/videos/real3.mp4')\n",
    "read = 0\n",
    "saved = 0\n",
    "\n",
    "# create directory if not exits\n",
    "Path('/home/harsh/my_liveness_detector/new_dataset/real1').mkdir(parents=True, exist_ok=True)\n",
    "print(\"222\")"
   ]
  },
  {
   "cell_type": "code",
   "execution_count": null,
   "metadata": {},
   "outputs": [],
   "source": [
    "# loop over frames from the video file stream\n",
    "no_of_frames = 0\n",
    "while True:\n",
    "    # grab the frame from the file\n",
    "    (grabbed, frame) = vs.read()\n",
    "    no_of_frames +=1\n",
    "    # if the frame was not grabbed, then we have reached the end\n",
    "    # of the stream\n",
    "    if not grabbed:\n",
    "        break\n",
    "\n",
    "    # increment the total number of frames read thus far\n",
    "    read += 1\n",
    "    \n",
    "    # check to see if we should process this frame\n",
    "    #if read % 4 != 0:\n",
    "     #   continue\n",
    "\n",
    "    # grab the frame dimensions and construct a blob from the frame\n",
    "    (h, w) = frame.shape[:2]\n",
    "    blob = cv2.dnn.blobFromImage(cv2.resize(frame, (300, 300)), 1.0, (300, 300), (104.0, 177.0, 123.0))\n",
    " \n",
    "    # pass the blob through the network and obtain the detections and\n",
    "    # predictions\n",
    "    net.setInput(blob)\n",
    "    detections = net.forward()\n",
    "    \n",
    "    # ensure at least one face was found\n",
    "    if len(detections) > 0:\n",
    "        # we're making the assumption that each image has only ONE\n",
    "        # face, so find the bounding box with the largest probability\n",
    "        i = np.argmax(detections[0, 0, :, 2])\n",
    "        confidence = detections[0, 0, i, 2]\n",
    "\n",
    "        # ensure that the detection with the largest probability also\n",
    "        # means our minimum probability test (thus helping filter out\n",
    "        # weak detections)\n",
    "        if confidence > 0.5:\n",
    "            # compute the (x, y)-coordinates of the bounding box for\n",
    "            # the face and extract the face ROI\n",
    "            box = detections[0, 0, i, 3:7] * np.array([w, h, w, h])\n",
    "            (startX, startY, endX, endY) = box.astype(\"int\")\n",
    "            face = frame[startY:endY, startX:endX]\n",
    "\n",
    "            # write the frame to disk\n",
    "            p = os.path.sep.join(['/home/harsh/my_liveness_detector/new_dataset/fake', \"{}.png\".format(saved)])\n",
    "            #cv2.imwrite(p, face)\n",
    "            saved += 1\n",
    "            print(\"[INFO] saved {} to disk\".format(p))\n",
    "            print(no_of_frames)\n",
    "print(no_of_frames)\n"
   ]
  },
  {
   "cell_type": "code",
   "execution_count": null,
   "metadata": {},
   "outputs": [],
   "source": [
    "# do a bit of cleanup\n",
    "vs.release()\n",
    "cv2.destroyAllWindows()"
   ]
  },
  {
   "cell_type": "code",
   "execution_count": null,
   "metadata": {},
   "outputs": [],
   "source": [
    "\n",
    "# 4th video has 160 frames only in real \n",
    "#5th video has 190 frames in fake"
   ]
  }
 ],
 "metadata": {
  "kernelspec": {
   "display_name": "Python 3",
   "language": "python",
   "name": "python3"
  },
  "language_info": {
   "codemirror_mode": {
    "name": "ipython",
    "version": 3
   },
   "file_extension": ".py",
   "mimetype": "text/x-python",
   "name": "python",
   "nbconvert_exporter": "python",
   "pygments_lexer": "ipython3",
   "version": "3.7.7"
  }
 },
 "nbformat": 4,
 "nbformat_minor": 4
}
